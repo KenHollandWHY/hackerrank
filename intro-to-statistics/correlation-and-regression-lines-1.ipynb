{
 "cells": [
  {
   "cell_type": "markdown",
   "metadata": {},
   "source": [
    "# Day 6: Correlation and Regression Lines #1"
   ]
  },
  {
   "cell_type": "markdown",
   "metadata": {},
   "source": [
    "## Plot lines"
   ]
  },
  {
   "cell_type": "code",
   "execution_count": 1,
   "metadata": {
    "collapsed": true
   },
   "outputs": [],
   "source": [
    "%matplotlib inline"
   ]
  },
  {
   "cell_type": "code",
   "execution_count": 2,
   "metadata": {
    "collapsed": false
   },
   "outputs": [
    {
     "data": {
      "image/png": "[encoded data removed]",
      "text/plain": [
       "<matplotlib.figure.Figure at 0x7fe0742fcd50>"
      ]
     },
     "metadata": {},
     "output_type": "display_data"
    }
   ],
   "source": [
    "import numpy as np\n",
    "from __future__ import division\n",
    "import matplotlib.pyplot as plt  \n",
    "\n",
    "x_range = range(-10, 11)\n",
    "x = np.array(x_range)  \n",
    "plt.hold(True)\n",
    "\n",
    "# the line of regression of y on x\n",
    "# 3x + 4y + 8 = 0 <==> y = (-3/4)*x - 2\n",
    "y = (-3/4)*x - 2\n",
    "plt.plot(x, y)  \n",
    "\n",
    "# the line of regression of x on y\n",
    "# 4x + 3y + 7 = 0 <==> y = (-4/3)*x - 7/3\n",
    "y = (-4/3)*x - 7/3\n",
    "plt.plot(x, y)\n",
    "plt.show()"
   ]
  },
  {
   "cell_type": "markdown",
   "metadata": {},
   "source": [
    "## Find the Pearson Product moment coefficient r"
   ]
  },
  {
   "cell_type": "markdown",
   "metadata": {},
   "source": [
    "The equation of regression lines are:\n",
    "$$\n",
    "\\begin{equation*}\n",
    "x = a_{xy} + b_{xy}y \\quad \\text{($x$ on $y$)} \n",
    "\\end{equation*}\n",
    "$$\n",
    "$$\n",
    "\\begin{equation*}\n",
    "y = a_{yx} + b_{yx}x \\quad \\text{($y$ on $x$)}\n",
    "\\end{equation*}\n",
    "$$\n",
    "\n",
    "From these equations, it seems that the slopes are $b_{xy}$ and $\\frac{1}{b_{xy}}$ respectevery.\n",
    "\n",
    "The relation between the coffecient of colleration, the regression coefficients and the standard deviation is\n",
    "\n",
    "$$\n",
    "\\begin{equation*}\n",
    "b_{xy} = r \\frac{s_x}{s_y}, \\quad b_{yx} = r \\frac{s_y}{s_x}. \n",
    "\\end{equation*}\n",
    "$$\n",
    "\n",
    "Therefore, \n",
    "$$\n",
    "\\begin{equation*}\n",
    "r^2 = b_{xy} b_{yx}. \n",
    "\\end{equation*}\n",
    "$$"
   ]
  },
  {
   "cell_type": "markdown",
   "metadata": {},
   "source": [
    "In this case, we have\n",
    "$$\n",
    "b_{xy} = b_{yx} = -\\frac{3}{4}\n",
    "$$"
   ]
  },
  {
   "cell_type": "code",
   "execution_count": 3,
   "metadata": {
    "collapsed": false
   },
   "outputs": [],
   "source": [
    "b_xy = (-3/4) # slope on y\n",
    "b_yx = (-3/4) # slope on x\n",
    "\n",
    "r_squere = b_yx * b_xy"
   ]
  },
  {
   "cell_type": "markdown",
   "metadata": {},
   "source": [
    "The standard deviation should be positive, \n",
    "but we have the slope $b_{xy}$ as negative, \n",
    "so the Pearson Product moment coefficient $r$ should be negative value."
   ]
  },
  {
   "cell_type": "code",
   "execution_count": 4,
   "metadata": {
    "collapsed": false
   },
   "outputs": [
    {
     "name": "stdout",
     "output_type": "stream",
     "text": [
      "-0.75\n"
     ]
    }
   ],
   "source": [
    "r = -pow(r_squere, 0.5)\n",
    "print '%.2f'%r"
   ]
  }
 ],
 "metadata": {
  "kernelspec": {
   "display_name": "Python 3",
   "language": "python",
   "name": "python3"
  },
  "language_info": {
   "codemirror_mode": {
    "name": "ipython",
    "version": 3
   },
   "file_extension": ".py",
   "mimetype": "text/x-python",
   "name": "python",
   "nbconvert_exporter": "python",
   "pygments_lexer": "ipython3",
   "version": "3.5.1"
  }
 },
 "nbformat": 4,
 "nbformat_minor": 0
}
